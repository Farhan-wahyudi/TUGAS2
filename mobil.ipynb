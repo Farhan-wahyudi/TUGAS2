{
  "nbformat": 4,
  "nbformat_minor": 0,
  "metadata": {
    "colab": {
      "provenance": [],
      "authorship_tag": "ABX9TyNpe5+ovoca5S5hKFmjSoZl",
      "include_colab_link": true
    },
    "kernelspec": {
      "name": "python3",
      "display_name": "Python 3"
    },
    "language_info": {
      "name": "python"
    }
  },
  "cells": [
    {
      "cell_type": "markdown",
      "metadata": {
        "id": "view-in-github",
        "colab_type": "text"
      },
      "source": [
        "<a href=\"https://colab.research.google.com/github/Farhan-wahyudi/TUGAS2/blob/main/mobil.ipynb\" target=\"_parent\"><img src=\"https://colab.research.google.com/assets/colab-badge.svg\" alt=\"Open In Colab\"/></a>"
      ]
    },
    {
      "cell_type": "code",
      "source": [
        "class Mobil:\n",
        "    def __init__(self, merek, tahun):\n",
        "        self.merek = merek\n",
        "        self.tahun = tahun\n",
        "\n",
        "    def jalan(self):\n",
        "        print(f\"{self.merek} ({self.tahun}) sedang melaju...\")\n",
        "\n",
        "# Membuat objek\n",
        "mobil1 = Mobil(\"Toyota Avanza\", 2020)\n",
        "mobil1.jalan()"
      ],
      "metadata": {
        "colab": {
          "base_uri": "https://localhost:8080/"
        },
        "id": "INyadqivKxnU",
        "outputId": "059af937-4d35-4589-d0aa-f846bde290e6"
      },
      "execution_count": 9,
      "outputs": [
        {
          "output_type": "stream",
          "name": "stdout",
          "text": [
            "Toyota Avanza (2020) sedang melaju...\n"
          ]
        }
      ]
    }
  ]
}