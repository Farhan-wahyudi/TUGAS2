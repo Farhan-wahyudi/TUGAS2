{
  "nbformat": 4,
  "nbformat_minor": 0,
  "metadata": {
    "colab": {
      "provenance": [],
      "authorship_tag": "ABX9TyPLHfcnz1fBuq0tCquMLCUk",
      "include_colab_link": true
    },
    "kernelspec": {
      "name": "python3",
      "display_name": "Python 3"
    },
    "language_info": {
      "name": "python"
    }
  },
  "cells": [
    {
      "cell_type": "markdown",
      "metadata": {
        "id": "view-in-github",
        "colab_type": "text"
      },
      "source": [
        "<a href=\"https://colab.research.google.com/github/Farhan-wahyudi/TUGAS2/blob/main/Mahasiswa.ipynb\" target=\"_parent\"><img src=\"https://colab.research.google.com/assets/colab-badge.svg\" alt=\"Open In Colab\"/></a>"
      ]
    },
    {
      "cell_type": "code",
      "execution_count": 6,
      "metadata": {
        "colab": {
          "base_uri": "https://localhost:8080/"
        },
        "id": "amKL0lsQ87iV",
        "outputId": "f958b647-1208-4db3-c80e-65232a819323"
      },
      "outputs": [
        {
          "output_type": "stream",
          "name": "stdout",
          "text": [
            "KRS Budi (NIM: 67890):\n",
            "- PBO\n",
            "- Kalkulus\n",
            "- Basis Data\n"
          ]
        }
      ],
      "source": [
        "class Mahasiswa:\n",
        "    def __init__(self, nama, nim):\n",
        "        self.nama = nama\n",
        "        self.nim = nim\n",
        "        self.krs = []\n",
        "\n",
        "    def cetak_krs(self):\n",
        "        print(f\"KRS {self.nama} (NIM: {self.nim}):\")\n",
        "        for matkul in self.krs:\n",
        "            print(f\"- {matkul}\")\n",
        "\n",
        "# Membuat objek\n",
        "mhs = Mahasiswa(\"Budi\", \"67890\")\n",
        "mhs.krs.extend([\"PBO\", \"Kalkulus\", \"Basis Data\"])\n",
        "mhs.cetak_krs()"
      ]
    }
  ]
}