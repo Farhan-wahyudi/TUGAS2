{
  "nbformat": 4,
  "nbformat_minor": 0,
  "metadata": {
    "colab": {
      "provenance": [],
      "authorship_tag": "ABX9TyON7g+1ZnxAkFL4wVE/rCxi",
      "include_colab_link": true
    },
    "kernelspec": {
      "name": "python3",
      "display_name": "Python 3"
    },
    "language_info": {
      "name": "python"
    }
  },
  "cells": [
    {
      "cell_type": "markdown",
      "metadata": {
        "id": "view-in-github",
        "colab_type": "text"
      },
      "source": [
        "<a href=\"https://colab.research.google.com/github/Farhan-wahyudi/TUGAS2/blob/main/buku.ipynb\" target=\"_parent\"><img src=\"https://colab.research.google.com/assets/colab-badge.svg\" alt=\"Open In Colab\"/></a>"
      ]
    },
    {
      "cell_type": "code",
      "source": [
        "class Buku:\n",
        "    def __init__(self, judul, penulis):\n",
        "        self.judul = judul\n",
        "        self.penulis = penulis\n",
        "\n",
        "    def tampilkan_info(self):\n",
        "        print(f\"Judul: {self.judul}, Penulis: {self.penulis}\")\n",
        "\n",
        "# Membuat objek\n",
        "buku1 = Buku(\"Laskar Pelangi\", \"Andrea Hirata\")\n",
        "buku1.tampilkan_info()"
      ],
      "metadata": {
        "colab": {
          "base_uri": "https://localhost:8080/"
        },
        "id": "LPVUK5zqIQYa",
        "outputId": "ee411be5-9f90-472f-f3e8-035d15810587"
      },
      "execution_count": 8,
      "outputs": [
        {
          "output_type": "stream",
          "name": "stdout",
          "text": [
            "Judul: Laskar Pelangi, Penulis: Andrea Hirata\n"
          ]
        }
      ]
    }
  ]
}